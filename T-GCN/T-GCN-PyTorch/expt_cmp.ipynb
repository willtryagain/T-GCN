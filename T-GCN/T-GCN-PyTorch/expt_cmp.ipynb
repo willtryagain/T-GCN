{
 "cells": [
  {
   "cell_type": "markdown",
   "metadata": {},
   "source": []
  },
  {
   "cell_type": "code",
   "execution_count": 3,
   "metadata": {},
   "outputs": [
    {
     "data": {
      "text/plain": [
       "(8358, 2)"
      ]
     },
     "execution_count": 3,
     "metadata": {},
     "output_type": "execute_result"
    }
   ],
   "source": [
    "import pandas as pd\n",
    "import numpy as np\n",
    "\n",
    "df = pd.read_hdf('pems_bay/pems_bay.h5')\n",
    "# to numpy \n",
    "data = df.to_numpy()\n",
    "data.shape\n",
    "\n",
    "vals = df.columns.values\n",
    "# construct a map from index to sensor id\n",
    "sensor_id_to_ind = {sensor_id: i for i, sensor_id in enumerate(vals)}\n",
    "adj_df= pd.read_csv('pems_bay/distances_bay.csv')\n",
    "\n",
    "# obtain edges\n",
    "edges = []\n",
    "weights = []\n",
    "for row in adj_df.values:\n",
    "    if row[0] not in sensor_id_to_ind or row[1] not in sensor_id_to_ind:\n",
    "        continue\n",
    "    edges.append((sensor_id_to_ind[row[0]], sensor_id_to_ind[row[1]]))\n",
    "    weights.append(row[2])\n",
    "\n",
    "edges = np.array(edges)\n",
    "weights = np.array(weights)\n",
    "edges.shape\n",
    "\n",
    "import pandas as pd\n",
    "import numpy as np\n",
    "import torch\n",
    "from torch import Tensor\n",
    "from torch_geometric.typing import Adj, OptTensor\n",
    "from torch_scatter import scatter_add\n",
    "from torch.nn import Linear, Parameter\n",
    "from torch_geometric.nn import MessagePassing\n",
    "from torch_geometric.utils import add_self_loops, degree\n",
    "import matplotlib.pyplot as plt\n",
    "\n",
    "def get_symmetrically_normalized_adjacency(edge_index, edge_weight, n_nodes):\n",
    "    \"\"\"\n",
    "    Given an edge_index, return the same edge_index and edge weights computed as\n",
    "    \\mathbf{\\hat{D}}^{-1/2} \\mathbf{\\hat{A}} \\mathbf{\\hat{D}}^{-1/2}.\n",
    "    \"\"\"\n",
    "    row, col = edge_index[0], edge_index[1]\n",
    "    deg = scatter_add(edge_weight, col, dim=0, dim_size=n_nodes)\n",
    "    deg_inv_sqrt = deg.pow_(-0.5)\n",
    "    deg_inv_sqrt.masked_fill_(deg_inv_sqrt == float(\"inf\"), 0)\n",
    "    DAD = deg_inv_sqrt[row] * edge_weight * deg_inv_sqrt[col]\n",
    "\n",
    "    return edge_index, DAD\n",
    "\n",
    "\n",
    "class FeaturePropagation(torch.nn.Module):\n",
    "    def __init__(self, num_iterations: int):\n",
    "        super(FeaturePropagation, self).__init__()\n",
    "        self.num_iterations = num_iterations\n",
    "\n",
    "    def propagate(self, x: Tensor, edge_index: Adj, mask: Tensor, edge_weight : Tensor) -> Tensor:\n",
    "        # out is inizialized to 0 for missing values. However, its initialization does not matter for the final\n",
    "        # value at convergence\n",
    "        out = x\n",
    "        if mask is not None:\n",
    "            out = torch.zeros_like(x)\n",
    "            out[mask] = x[mask]\n",
    "\n",
    "        n_nodes = x.shape[0]\n",
    "        adj = self.get_propagation_matrix(edge_index, edge_weight, n_nodes)\n",
    "        for _ in range(self.num_iterations):\n",
    "            # Diffuse current features\n",
    "            out = torch.sparse.mm(adj, out)\n",
    "            # Reset original known features\n",
    "            out[mask] = x[mask]\n",
    "\n",
    "        return out\n",
    "\n",
    "    def get_propagation_matrix(self, edge_index, edge_weight, n_nodes):\n",
    "        # Initialize all edge weights to ones if the graph is unweighted)\n",
    "        edge_index, edge_weight = get_symmetrically_normalized_adjacency(edge_index, edge_weight, n_nodes=n_nodes)\n",
    "        adj = torch.sparse.FloatTensor(edge_index, values=edge_weight, size=(n_nodes, n_nodes)).to(edge_index.device)\n",
    "\n",
    "        return adj\n",
    "\n",
    "\n",
    "\n",
    "\n",
    "def feature_propagation(edge_index, edge_weight, X, feature_mask, num_iterations):\n",
    "    propagation_model = FeaturePropagation(num_iterations=num_iterations)\n",
    "\n",
    "    return propagation_model.propagate(x=X, edge_index=edge_index, mask=feature_mask, edge_weight=edge_weight)\n",
    "\n",
    "\n",
    "import torch\n",
    "\n",
    "\n",
    "def create_mask(shape, k):\n",
    "    np.random.seed(0)\n",
    "\n",
    "    total = shape[0] * shape[1]\n",
    "    num_zeros = int(total * k / 100)\n",
    "    indices = np.random.choice(total, num_zeros, replace=False)\n",
    "    mask = np.ones((shape[0], shape[1]), dtype=bool)\n",
    "    mask.ravel()[indices] = 0\n",
    "    return torch.from_numpy(mask)\n",
    "\n",
    "\n",
    "def get_product_graph(mat, T):\n",
    "    N = mat.shape[0]\n",
    "    mat_T = mat[:, :T].clone()\n",
    "    nodes = torch.arange(N) \n",
    "\n",
    "    edge_index_T = []\n",
    "    for i in range(T):\n",
    "        cur_edge_index = edge_index + i * N\n",
    "        edge_index_T.append(cur_edge_index)\n",
    "\n",
    "    for i in range(T-1):\n",
    "        cur_edge_index = torch.stack([nodes + i * N, nodes + (i + 1) * N], dim=0)\n",
    "        edge_index_T.append(cur_edge_index)\n",
    "        cur_edge_index = torch.stack([nodes + (i + 1) * N, nodes + i * N], dim=0)\n",
    "        edge_index_T.append(cur_edge_index)\n",
    "    \n",
    "    edge_index_T = torch.cat(edge_index_T, dim=1)\n",
    "    edge_weight_T = torch.ones(edge_index_T.shape[1])\n",
    "    mat_T = mat_T.T.flatten().unsqueeze(dim=1)\n",
    "\n",
    "    return edge_index_T, edge_weight_T, mat_T\n",
    "\n",
    "\n",
    "mat = torch.tensor(data).float().T\n",
    "edge_index = torch.tensor(edges).long().T\n",
    "edge_weight = torch.tensor(weights).float()\n",
    "# invert and set 0 to 0\n",
    "edge_weight = 1 / edge_weight\n",
    "edge_weight[edge_weight == float(\"inf\")] = torch.max(edge_weight[edge_weight != float(\"inf\")]) + 1\n",
    "\n",
    "edge_index_T, edge_weight_T, mat_T = get_product_graph(mat, mat.shape[1])\n",
    "\n",
    "# construct a mask\n",
    "missing_rate= 25\n",
    "mask = create_mask(mat.shape, missing_rate)\n",
    "X = torch.zeros_like(mat)\n",
    "\n"
   ]
  },
  {
   "cell_type": "code",
   "execution_count": 22,
   "metadata": {},
   "outputs": [],
   "source": []
  },
  {
   "cell_type": "code",
   "execution_count": 28,
   "metadata": {},
   "outputs": [
    {
     "data": {
      "text/plain": [
       "(8358, 2)"
      ]
     },
     "execution_count": 28,
     "metadata": {},
     "output_type": "execute_result"
    }
   ],
   "source": []
  },
  {
   "cell_type": "code",
   "execution_count": 30,
   "metadata": {},
   "outputs": [
    {
     "name": "stderr",
     "output_type": "stream",
     "text": [
      "/home/a/anaconda3/envs/graph/lib/python3.8/site-packages/tqdm/auto.py:21: TqdmWarning: IProgress not found. Please update jupyter and ipywidgets. See https://ipywidgets.readthedocs.io/en/stable/user_install.html\n",
      "  from .autonotebook import tqdm as notebook_tqdm\n",
      "/home/a/anaconda3/envs/graph/lib/python3.8/site-packages/torch/cuda/__init__.py:107: UserWarning: CUDA initialization: CUDA unknown error - this may be due to an incorrectly set up environment, e.g. changing env variable CUDA_VISIBLE_DEVICES after program start. Setting the available devices to be zero. (Triggered internally at /opt/conda/conda-bld/pytorch_1682343998658/work/c10/cuda/CUDAFunctions.cpp:109.)\n",
      "  return torch._C._cuda_getDeviceCount() > 0\n"
     ]
    }
   ],
   "source": []
  },
  {
   "cell_type": "code",
   "execution_count": 44,
   "metadata": {},
   "outputs": [],
   "source": []
  },
  {
   "cell_type": "code",
   "execution_count": 43,
   "metadata": {},
   "outputs": [
    {
     "name": "stdout",
     "output_type": "stream",
     "text": [
      "tensor(2758.4329)\n"
     ]
    }
   ],
   "source": [
    "X[mask] = mat[mask].clone()\n",
    "\n",
    "X_reconstructed = feature_propagation(edge_index, edge_weight, X, mask, 40)\n",
    "\n",
    "# find mse \n",
    "mse = torch.nn.functional.mse_loss(X_reconstructed[~mask], mat[~mask])\n",
    "print(mse)\n"
   ]
  },
  {
   "cell_type": "code",
   "execution_count": 6,
   "metadata": {},
   "outputs": [
    {
     "name": "stdout",
     "output_type": "stream",
     "text": [
      "AnnotatedTransformer.ipynb  LICENSE\t    pems_bay\t\t  run.sh\n",
      "compare_FP.py\t\t    lightning_logs  __pycache__\t\t  shenzhen.npy\n",
      "data\t\t\t    losloop.npy     pyproject.toml\t  shenzhen.png\n",
      "expt_cmp.ipynb\t\t    losloop.png     README.md\t\t  tasks\n",
      "expt.ipynb\t\t    main.py\t    requirements-dev.txt  utils\n",
      "huge_cmp.py\t\t    models\t    requirements.txt\n",
      "imputers\t\t    my_main.py\t    run.py\n"
     ]
    }
   ],
   "source": [
    "!ls"
   ]
  }
 ],
 "metadata": {
  "kernelspec": {
   "display_name": "graph",
   "language": "python",
   "name": "python3"
  },
  "language_info": {
   "codemirror_mode": {
    "name": "ipython",
    "version": 3
   },
   "file_extension": ".py",
   "mimetype": "text/x-python",
   "name": "python",
   "nbconvert_exporter": "python",
   "pygments_lexer": "ipython3",
   "version": "3.8.16"
  },
  "orig_nbformat": 4
 },
 "nbformat": 4,
 "nbformat_minor": 2
}
